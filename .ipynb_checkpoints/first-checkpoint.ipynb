{
 "cells": [
  {
   "cell_type": "code",
   "execution_count": 1,
   "metadata": {
    "ExecuteTime": {
     "end_time": "2020-05-14T11:42:22.037205Z",
     "start_time": "2020-05-14T11:42:20.741113Z"
    }
   },
   "outputs": [],
   "source": [
    "import numpy as np\n",
    "import src"
   ]
  },
  {
   "cell_type": "code",
   "execution_count": 2,
   "metadata": {
    "ExecuteTime": {
     "end_time": "2020-05-14T11:42:22.037205Z",
     "start_time": "2020-05-14T11:42:20.741113Z"
    }
   },
   "outputs": [],
   "source": [
    "# from jupyterthemes import jtplot\n",
    "# jtplot.style(theme='onedork', context='notebook')"
   ]
  },
  {
   "cell_type": "markdown",
   "metadata": {},
   "source": [
    "# Перша задача, неадаптивні алгоритми"
   ]
  },
  {
   "cell_type": "code",
   "execution_count": 3,
   "metadata": {
    "ExecuteTime": {
     "end_time": "2020-05-14T11:42:22.042184Z",
     "start_time": "2020-05-14T11:42:22.039178Z"
    }
   },
   "outputs": [],
   "source": [
    "lambda_ = 0.4\n",
    "tolerance = 1e-3\n",
    "sizes = (1_000, 2_000, 5_000, 10_000)\n",
    "algos = ('Корпелевич', 'Tseng', 'Кеш. Tseng', 'Попов', 'Кеш. Попов',\n",
    "         'Маліцький Tam', 'Кеш. Маліцький Tam')\n",
    "iters, times = {algo: {} for algo in algos}, {algo: {} for algo in algos}"
   ]
  },
  {
   "cell_type": "code",
   "execution_count": 4,
   "metadata": {
    "ExecuteTime": {
     "end_time": "2020-05-14T11:45:11.849281Z",
     "start_time": "2020-05-14T11:42:22.044693Z"
    }
   },
   "outputs": [],
   "source": [
    "for size in sizes:\n",
    "    x_initial = np.ones(size)\n",
    "    a = src.generate_matrix(size)\n",
    "\n",
    "    _, iters['Корпелевич'][size], times['Корпелевич'][size] = \\\n",
    "        src.korpelevich(x_initial, lambda_, tolerance,\n",
    "                        operator=lambda x: a.dot(x))\n",
    "    \n",
    "    _, iters['Tseng'][size], times['Tseng'][size] = \\\n",
    "        src.tseng(x_initial, lambda_, tolerance,\n",
    "                  operator=lambda x: a.dot(x))\n",
    "    \n",
    "    _, iters['Кеш. Tseng'][size], times['Кеш. Tseng'][size] = \\\n",
    "        src.cached_tseng(x_initial, lambda_, tolerance,\n",
    "                         operator=lambda x: a.dot(x))\n",
    "    \n",
    "    _, iters['Попов'][size], times['Попов'][size] = \\\n",
    "        src.popov(x_initial, x_initial, lambda_, tolerance,\n",
    "                  operator=lambda x: a.dot(x))\n",
    "    \n",
    "    _, iters['Кеш. Попов'][size], times['Кеш. Попов'][size] = \\\n",
    "        src.cached_popov(x_initial, x_initial, lambda_, tolerance,\n",
    "                         operator=lambda x: a.dot(x))\n",
    "    \n",
    "    _, iters['Маліцький Tam'][size], times['Маліцький Tam'][size] = \\\n",
    "        src.malitskyi_tam(x_initial, x_initial, lambda_, tolerance,\n",
    "                          operator=lambda x: a.dot(x))\n",
    "\n",
    "    _, iters['Кеш. Маліцький Tam'][size], times['Кеш. Маліцький Tam'][size] = \\\n",
    "        src.cached_malitskyi_tam(x_initial, x_initial, lambda_, tolerance,\n",
    "                                 operator=lambda x: a.dot(x))\n"
   ]
  },
  {
   "cell_type": "code",
   "execution_count": 5,
   "metadata": {
    "ExecuteTime": {
     "end_time": "2020-05-14T11:45:11.861817Z",
     "start_time": "2020-05-14T11:45:11.855798Z"
    }
   },
   "outputs": [
    {
     "name": "stdout",
     "output_type": "stream",
     "text": [
      "1000 & 0.10 & 132 & 0.11 & 132 & 0.09 & 132 & 0.06 & 89 & 0.03 & 89 & 0.08 & 91 & 0.03 & 91 \\\\ \\hline\n",
      "2000 & 0.66 & 137 & 1.40 & 137 & 0.55 & 137 & 0.39 & 92 & 0.19 & 92 & 0.59 & 94 & 0.19 & 94 \\\\ \\hline\n",
      "5000 & 4.39 & 144 & 6.18 & 144 & 4.46 & 144 & 3.32 & 96 & 1.49 & 96 & 4.36 & 98 & 1.58 & 98 \\\\ \\hline\n",
      "10000 & 18.76 & 148 & 27.78 & 148 & 18.52 & 148 & 13.57 & 99 & 7.18 & 99 & 19.35 & 101 & 6.44 & 101 \\\\ \\hline\n"
     ]
    }
   ],
   "source": [
    "for size in sizes:\n",
    "    print(size, end='')\n",
    "    for algo in algos:\n",
    "        print(f' & {times[algo][size]:.2f} & {iters[algo][size]}', end='')\n",
    "    print(' \\\\\\\\ \\\\hline')"
   ]
  },
  {
   "cell_type": "markdown",
   "metadata": {},
   "source": [
    "# Перша задача, адаптивні алгоритми"
   ]
  },
  {
   "cell_type": "code",
   "execution_count": 6,
   "metadata": {
    "ExecuteTime": {
     "end_time": "2020-05-14T11:45:12.757651Z",
     "start_time": "2020-05-14T11:45:12.754641Z"
    }
   },
   "outputs": [],
   "source": [
    "tau = 0.4\n",
    "lambda_initial = 0.4\n",
    "tolerance = 1e-3\n",
    "sizes = (1_000, 2_000, 5_000, 10_000)\n",
    "algos = ('Адапт. Корпелевич', 'Кеш. адапт. Корпелевич', 'Адапт. Tseng',\n",
    "         'Кеш. адапт. Tseng', 'Адапт. Попов', 'Кеш. адапт. Попов',\n",
    "         'Адапт. Маліцький Tam', 'Кеш. адапт. Маліцький Tam')\n",
    "iters, times = {algo: {} for algo in algos}, {algo: {} for algo in algos}"
   ]
  },
  {
   "cell_type": "code",
   "execution_count": 7,
   "metadata": {
    "ExecuteTime": {
     "end_time": "2020-05-14T11:51:13.430294Z",
     "start_time": "2020-05-14T11:45:12.759656Z"
    },
    "scrolled": false
   },
   "outputs": [],
   "source": [
    "for size in sizes:\n",
    "    x_initial = np.ones(size)\n",
    "    a = src.generate_matrix(size)\n",
    "\n",
    "    _, iters['Адапт. Корпелевич'][size], times['Адапт. Корпелевич'][size] = \\\n",
    "        src.adaptive_korpelevich(x_initial, tau, lambda_initial, tolerance,\n",
    "                                 operator=lambda x: a.dot(x))\n",
    "\n",
    "    _, iters['Кеш. адапт. Корпелевич'][size], times['Кеш. адапт. Корпелевич'][size] = \\\n",
    "        src.cached_adaptive_korpelevich(x_initial, tau, lambda_initial, tolerance,\n",
    "                                        operator=lambda x: a.dot(x))\n",
    "\n",
    "    _, iters['Адапт. Tseng'][size], times['Адапт. Tseng'][size] = \\\n",
    "        src.adaptive_tseng(x_initial, tau, lambda_initial, tolerance,\n",
    "                           operator=lambda x: a.dot(x))\n",
    "\n",
    "    _, iters['Кеш. адапт. Tseng'][size], times['Кеш. адапт. Tseng'][size] = \\\n",
    "        src.cached_adaptive_tseng(x_initial, tau, lambda_initial, tolerance,\n",
    "                                  operator=lambda x: a.dot(x))\n",
    " \n",
    "    _, iters['Адапт. Попов'][size], times['Адапт. Попов'][size] = \\\n",
    "        src.adaptive_popov(x_initial, x_initial, tau, lambda_initial, tolerance,\n",
    "                           operator=lambda x: a.dot(x))\n",
    "\n",
    "    _, iters['Кеш. адапт. Попов'][size], times['Кеш. адапт. Попов'][size] = \\\n",
    "        src.cached_adaptive_popov(x_initial, x_initial, tau, lambda_initial, tolerance,\n",
    "                                  operator=lambda x: a.dot(x))\n",
    "\n",
    "    _, iters['Адапт. Маліцький Tam'][size], times['Адапт. Маліцький Tam'][size] = \\\n",
    "        src.adaptive_malitskyi_tam(x_initial, x_initial, tau,\n",
    "                                   lambda_initial, lambda_initial, tolerance,\n",
    "                                   operator=lambda x: a.dot(x))\n",
    "\n",
    "    _, iters['Кеш. адапт. Маліцький Tam'][size], times['Кеш. адапт. Маліцький Tam'][size] = \\\n",
    "        src.cached_adaptive_malitskyi_tam(x_initial, x_initial, tau,\n",
    "                                          lambda_initial, lambda_initial, tolerance,\n",
    "                                          operator=lambda x: a.dot(x))\n"
   ]
  },
  {
   "cell_type": "code",
   "execution_count": 8,
   "metadata": {
    "ExecuteTime": {
     "end_time": "2020-05-14T11:51:14.193323Z",
     "start_time": "2020-05-14T11:51:13.444332Z"
    }
   },
   "outputs": [
    {
     "name": "stdout",
     "output_type": "stream",
     "text": [
      "1000 & 0.38 & 132 & 0.13 & 132 & 0.41 & 132 & 0.14 & 132 & 0.19 & 89 & 0.04 & 89 & 0.21 & 91 & 0.04 & 91 \\\\ \\hline\n",
      "2000 & 1.95 & 137 & 0.63 & 137 & 2.51 & 137 & 0.69 & 137 & 1.20 & 92 & 0.22 & 92 & 1.40 & 94 & 0.20 & 94 \\\\ \\hline\n",
      "5000 & 13.40 & 144 & 4.29 & 144 & 15.94 & 144 & 4.50 & 144 & 8.80 & 96 & 1.63 & 96 & 10.65 & 98 & 1.57 & 98 \\\\ \\hline\n",
      "10000 & 55.21 & 148 & 17.57 & 148 & 66.11 & 148 & 17.12 & 148 & 36.47 & 99 & 6.93 & 99 & 41.81 & 101 & 5.98 & 101 \\\\ \\hline\n"
     ]
    }
   ],
   "source": [
    "for size in sizes:\n",
    "    print(size, end='')\n",
    "    for algo in algos:\n",
    "        print(f' & {times[algo][size]:.2f} & {iters[algo][size]}', end='')\n",
    "    print(' \\\\\\\\ \\\\hline')"
   ]
  },
  {
   "cell_type": "markdown",
   "metadata": {},
   "source": [
    "# Перша задача із розрідженими матрицями, неадаптивні алгоритми"
   ]
  },
  {
   "cell_type": "code",
   "execution_count": 9,
   "metadata": {
    "ExecuteTime": {
     "end_time": "2020-05-14T11:51:14.198338Z",
     "start_time": "2020-05-14T11:51:14.195334Z"
    }
   },
   "outputs": [],
   "source": [
    "lambda_ = 0.4\n",
    "tolerance = 1e-3\n",
    "sizes = (50_000, 100_000, 200_000, 500_000)\n",
    "algos = ('Корпелевич', 'Tseng', 'Кеш. Tseng', 'Попов', 'Кеш. Попов',\n",
    "         'Маліцький Tam', 'Кеш. Маліцький Tam')\n",
    "iters, times = {algo: {} for algo in algos}, {algo: {} for algo in algos}"
   ]
  },
  {
   "cell_type": "code",
   "execution_count": 10,
   "metadata": {
    "ExecuteTime": {
     "end_time": "2020-05-14T11:51:59.310567Z",
     "start_time": "2020-05-14T11:51:14.200344Z"
    }
   },
   "outputs": [],
   "source": [
    "for size in sizes:\n",
    "    x_initial = np.ones(size)\n",
    "    a = src.generate_sparse_matrix(size)\n",
    "\n",
    "    _, iters['Корпелевич'][size], times['Корпелевич'][size] = \\\n",
    "        src.korpelevich(x_initial, lambda_, tolerance,\n",
    "                        operator=lambda x: a.dot(x))\n",
    "\n",
    "    _, iters['Tseng'][size], times['Tseng'][size] = \\\n",
    "        src.tseng(x_initial, lambda_, tolerance,\n",
    "                  operator=lambda x: a.dot(x))\n",
    "\n",
    "    _, iters['Кеш. Tseng'][size], times['Кеш. Tseng'][size] = \\\n",
    "        src.cached_tseng(x_initial, lambda_, tolerance,\n",
    "                         operator=lambda x: a.dot(x))\n",
    "\n",
    "    _, iters['Попов'][size], times['Попов'][size] = \\\n",
    "        src.popov(x_initial, x_initial, lambda_, tolerance,\n",
    "                  operator=lambda x: a.dot(x))\n",
    "\n",
    "    _, iters['Кеш. Попов'][size], times['Кеш. Попов'][size] = \\\n",
    "        src.cached_popov(x_initial, x_initial, lambda_, tolerance,\n",
    "                         operator=lambda x: a.dot(x))\n",
    "\n",
    "    _, iters['Маліцький Tam'][size], times['Маліцький Tam'][size] = \\\n",
    "        src.malitskyi_tam(x_initial, x_initial, lambda_, tolerance,\n",
    "                          operator=lambda x: a.dot(x))\n",
    "\n",
    "    _, iters['Кеш. Маліцький Tam'][size], times['Кеш. Маліцький Tam'][size] = \\\n",
    "        src.cached_malitskyi_tam(x_initial, x_initial, lambda_, tolerance,\n",
    "                                 operator=lambda x: a.dot(x))"
   ]
  },
  {
   "cell_type": "code",
   "execution_count": 11,
   "metadata": {
    "ExecuteTime": {
     "end_time": "2020-05-14T11:51:59.317585Z",
     "start_time": "2020-05-14T11:51:59.311571Z"
    }
   },
   "outputs": [
    {
     "name": "stdout",
     "output_type": "stream",
     "text": [
      "50000 & 0.15 & 159 & 0.21 & 159 & 0.16 & 159 & 0.10 & 106 & 0.07 & 106 & 0.14 & 108 & 0.08 & 108 \\\\ \\hline\n",
      "100000 & 0.41 & 164 & 0.77 & 164 & 0.58 & 164 & 0.35 & 109 & 0.39 & 109 & 0.49 & 111 & 0.24 & 111 \\\\ \\hline\n",
      "200000 & 2.33 & 169 & 3.24 & 169 & 2.70 & 169 & 1.62 & 112 & 1.29 & 112 & 2.24 & 114 & 1.47 & 114 \\\\ \\hline\n",
      "500000 & 6.58 & 175 & 9.10 & 175 & 7.16 & 175 & 4.24 & 117 & 3.32 & 117 & 5.74 & 119 & 3.87 & 119 \\\\ \\hline\n"
     ]
    }
   ],
   "source": [
    "for size in sizes:\n",
    "    print(size, end='')\n",
    "    for algo in algos:\n",
    "        print(f' & {times[algo][size]:.2f} & {iters[algo][size]}', end='')\n",
    "    print(' \\\\\\\\ \\\\hline')"
   ]
  },
  {
   "cell_type": "markdown",
   "metadata": {},
   "source": [
    "# Перша задача із розрідженими матрицями, адаптивні алгоритми"
   ]
  },
  {
   "cell_type": "code",
   "execution_count": 12,
   "metadata": {
    "ExecuteTime": {
     "end_time": "2020-05-14T11:51:59.824935Z",
     "start_time": "2020-05-14T11:51:59.821927Z"
    }
   },
   "outputs": [],
   "source": [
    "tau = 0.4\n",
    "lambda_initial = 0.4\n",
    "tolerance = 1e-3\n",
    "sizes = (50_000, 100_000, 200_000, 500_000)\n",
    "algos = ('Адапт. Корпелевич', 'Кеш. адапт. Корпелевич', 'Адапт. Tseng',\n",
    "         'Кеш. адапт. Tseng', 'Адапт. Попов', 'Кеш. адапт. Попов',\n",
    "         'Адапт. Маліцький Tam', 'Кеш. адапт. Маліцький Tam')\n",
    "iters, times = {algo: {} for algo in algos}, {algo: {} for algo in algos}"
   ]
  },
  {
   "cell_type": "code",
   "execution_count": 13,
   "metadata": {
    "ExecuteTime": {
     "end_time": "2020-05-14T11:53:49.716083Z",
     "start_time": "2020-05-14T11:51:59.826940Z"
    }
   },
   "outputs": [],
   "source": [
    "for size in sizes:\n",
    "    x_initial = np.ones(size)\n",
    "    a = src.generate_sparse_matrix(size)\n",
    "\n",
    "    _, iters['Адапт. Корпелевич'][size], times['Адапт. Корпелевич'][size] = \\\n",
    "        src.adaptive_korpelevich(x_initial, tau, lambda_initial, tolerance,\n",
    "                                 operator=lambda x: a.dot(x))\n",
    "\n",
    "    _, iters['Кеш. адапт. Корпелевич'][size], times['Кеш. адапт. Корпелевич'][size] = \\\n",
    "        src.cached_adaptive_korpelevich(x_initial, tau, lambda_initial, tolerance,\n",
    "                                        operator=lambda x: a.dot(x))\n",
    "\n",
    "    _, iters['Адапт. Tseng'][size], times['Адапт. Tseng'][size] = \\\n",
    "        src.adaptive_tseng(x_initial, tau, lambda_initial, tolerance,\n",
    "                           operator=lambda x: a.dot(x))\n",
    "\n",
    "    _, iters['Кеш. адапт. Tseng'][size], times['Кеш. адапт. Tseng'][size] = \\\n",
    "        src.cached_adaptive_tseng(x_initial, tau, lambda_initial, tolerance,\n",
    "                                  operator=lambda x: a.dot(x))\n",
    " \n",
    "    _, iters['Адапт. Попов'][size], times['Адапт. Попов'][size] = \\\n",
    "        src.adaptive_popov(x_initial, x_initial, tau, lambda_initial, tolerance,\n",
    "                           operator=lambda x: a.dot(x))\n",
    "\n",
    "    _, iters['Кеш. адапт. Попов'][size], times['Кеш. адапт. Попов'][size] = \\\n",
    "        src.cached_adaptive_popov(x_initial, x_initial, tau, lambda_initial, tolerance,\n",
    "                                  operator=lambda x: a.dot(x))\n",
    "\n",
    "    _, iters['Адапт. Маліцький Tam'][size], times['Адапт. Маліцький Tam'][size] = \\\n",
    "        src.adaptive_malitskyi_tam(x_initial, x_initial, tau,\n",
    "                                   lambda_initial, lambda_initial, tolerance,\n",
    "                                   operator=lambda x: a.dot(x))\n",
    "\n",
    "    _, iters['Кеш. адапт. Маліцький Tam'][size], times['Кеш. адапт. Маліцький Tam'][size] = \\\n",
    "        src.cached_adaptive_malitskyi_tam(x_initial, x_initial, tau,\n",
    "                                          lambda_initial, lambda_initial, tolerance,\n",
    "                                          operator=lambda x: a.dot(x))\n"
   ]
  },
  {
   "cell_type": "code",
   "execution_count": 14,
   "metadata": {
    "ExecuteTime": {
     "end_time": "2020-05-14T11:53:49.727107Z",
     "start_time": "2020-05-14T11:53:49.720090Z"
    }
   },
   "outputs": [
    {
     "name": "stdout",
     "output_type": "stream",
     "text": [
      "50000 & 0.54 & 159 & 0.39 & 159 & 0.50 & 159 & 0.33 & 159 & 0.33 & 106 & 0.15 & 106 & 0.33 & 108 & 0.15 & 108 \\\\ \\hline\n",
      "100000 & 1.53 & 164 & 0.78 & 164 & 1.15 & 164 & 0.58 & 164 & 0.96 & 109 & 0.36 & 109 & 0.81 & 111 & 0.41 & 111 \\\\ \\hline\n",
      "200000 & 6.80 & 169 & 3.63 & 169 & 6.38 & 169 & 3.53 & 169 & 4.33 & 112 & 1.97 & 112 & 4.20 & 114 & 2.08 & 114 \\\\ \\hline\n",
      "500000 & 16.68 & 175 & 9.27 & 175 & 16.51 & 175 & 9.12 & 175 & 11.08 & 117 & 5.40 & 117 & 11.35 & 119 & 5.49 & 119 \\\\ \\hline\n"
     ]
    }
   ],
   "source": [
    "for size in sizes:\n",
    "    print(size, end='')\n",
    "    for algo in algos:\n",
    "        print(f' & {times[algo][size]:.2f} & {iters[algo][size]}', end='')\n",
    "    print(' \\\\\\\\ \\\\hline')"
   ]
  },
  {
   "cell_type": "code",
   "execution_count": null,
   "metadata": {},
   "outputs": [],
   "source": []
  }
 ],
 "metadata": {
  "kernelspec": {
   "display_name": "Python 3",
   "language": "python",
   "name": "python3"
  },
  "language_info": {
   "codemirror_mode": {
    "name": "ipython",
    "version": 3
   },
   "file_extension": ".py",
   "mimetype": "text/x-python",
   "name": "python",
   "nbconvert_exporter": "python",
   "pygments_lexer": "ipython3",
   "version": "3.6.5"
  }
 },
 "nbformat": 4,
 "nbformat_minor": 2
}
