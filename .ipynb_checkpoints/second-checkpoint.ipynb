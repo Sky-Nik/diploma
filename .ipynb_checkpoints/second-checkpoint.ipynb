{
 "cells": [
  {
   "cell_type": "code",
   "execution_count": 1,
   "metadata": {
    "ExecuteTime": {
     "end_time": "2020-05-14T11:42:22.037205Z",
     "start_time": "2020-05-14T11:42:20.741113Z"
    }
   },
   "outputs": [],
   "source": [
    "import numpy as np\n",
    "import src"
   ]
  },
  {
   "cell_type": "code",
   "execution_count": 2,
   "metadata": {
    "ExecuteTime": {
     "end_time": "2020-05-14T11:42:22.037205Z",
     "start_time": "2020-05-14T11:42:20.741113Z"
    }
   },
   "outputs": [],
   "source": [
    "# from jupyterthemes import jtplot\n",
    "# jtplot.style(theme='onedork', context='notebook')"
   ]
  },
  {
   "cell_type": "markdown",
   "metadata": {},
   "source": [
    "# Друга задача, неадаптивні алгоритми"
   ]
  },
  {
   "cell_type": "code",
   "execution_count": 3,
   "metadata": {
    "ExecuteTime": {
     "end_time": "2020-05-14T11:53:50.809992Z",
     "start_time": "2020-05-14T11:53:50.802972Z"
    }
   },
   "outputs": [],
   "source": [
    "def ProjectionOntoProbabilitySymplex(x: np.array) -> np.array:\n",
    "    \"\"\" computes projection onto (scaled) a probability symplex \"\"\"\n",
    "    dimensionality = x.shape[0]\n",
    "    x /= dimensionality\n",
    "    sorted_x = np.flip(np.sort(x))\n",
    "    prefix_sum = np.cumsum(sorted_x)\n",
    "    to_compare = sorted_x + (1 - prefix_sum) / np.arange(1, dimensionality + 1)\n",
    "    k = 0\n",
    "    for j in range(1, dimensionality):\n",
    "        if to_compare[j] > 0:\n",
    "            k = j\n",
    "    return dimensionality * np.maximum(np.zeros(dimensionality), x +\n",
    "                                       (to_compare[k] - sorted_x[k]))"
   ]
  },
  {
   "cell_type": "code",
   "execution_count": 4,
   "metadata": {
    "ExecuteTime": {
     "end_time": "2020-05-14T11:53:50.820018Z",
     "start_time": "2020-05-14T11:53:50.814001Z"
    }
   },
   "outputs": [],
   "source": [
    "tolerance = 1e-3\n",
    "sizes = (100, 200, 500, 1000)\n",
    "algos = ('Корпелевич', 'Tseng', 'Кеш. Tseng', 'Попов', 'Кеш. Попов',\n",
    "         'Маліцький Tam', 'Кеш. Маліцький Tam')"
   ]
  },
  {
   "cell_type": "code",
   "execution_count": 5,
   "metadata": {
    "ExecuteTime": {
     "end_time": "2020-05-14T11:53:50.820018Z",
     "start_time": "2020-05-14T11:53:50.814001Z"
    }
   },
   "outputs": [
    {
     "name": "stdout",
     "output_type": "stream",
     "text": [
      "100 & 0.62 & 967 & 0.48 & 967 & 0.40 & 967 & 0.55 & 967 & 0.43 & 967 & 0.47 & 967 & 0.29 & 967 \\\\ \\hline\n",
      "200 & 1.41 & 1849 & 1.07 & 1849 & 0.90 & 1849 & 1.39 & 1849 & 1.26 & 1849 & 1.08 & 1849 & 0.72 & 1849 \\\\ \\hline\n",
      "500 & 3.67 & 2523 & 2.34 & 2523 & 2.07 & 2523 & 3.63 & 2523 & 3.30 & 2523 & 2.53 & 2523 & 1.88 & 2523 \\\\ \\hline\n",
      "1000 & 10.09 & 3542 & 8.29 & 3542 & 7.23 & 3542 & 9.62 & 3542 & 8.05 & 3542 & 7.95 & 3543 & 5.07 & 3543 \\\\ \\hline\n",
      "100 & 0.71 & 1151 & 0.58 & 1151 & 0.47 & 1151 & 0.68 & 1151 & 0.58 & 1151 & 0.59 & 1151 & 0.36 & 1151 \\\\ \\hline\n",
      "200 & 1.30 & 1672 & 1.01 & 1672 & 0.85 & 1672 & 1.30 & 1672 & 1.10 & 1672 & 1.03 & 1672 & 0.69 & 1672 \\\\ \\hline\n",
      "500 & 4.33 & 2543 & 2.74 & 2543 & 2.29 & 2543 & 3.77 & 2543 & 3.27 & 2543 & 2.39 & 2543 & 1.94 & 2543 \\\\ \\hline\n",
      "1000 & 9.18 & 3570 & 7.37 & 3570 & 6.16 & 3570 & 10.57 & 3570 & 8.05 & 3570 & 7.35 & 3570 & 4.75 & 3570 \\\\ \\hline\n",
      "100 & 0.63 & 1086 & 0.54 & 1086 & 0.42 & 1086 & 0.62 & 1086 & 0.50 & 1086 & 0.55 & 1086 & 0.34 & 1086 \\\\ \\hline\n",
      "200 & 1.35 & 1715 & 1.13 & 1715 & 0.91 & 1715 & 1.32 & 1715 & 1.16 & 1715 & 1.03 & 1715 & 0.71 & 1715 \\\\ \\hline\n",
      "500 & 4.07 & 2725 & 2.62 & 2725 & 2.36 & 2725 & 4.10 & 2725 & 3.48 & 2725 & 2.58 & 2725 & 2.16 & 2725 \\\\ \\hline\n",
      "1000 & 9.40 & 3471 & 7.55 & 3471 & 6.67 & 3471 & 9.68 & 3471 & 7.76 & 3471 & 7.34 & 3471 & 5.11 & 3471 \\\\ \\hline\n"
     ]
    }
   ],
   "source": [
    "for _pass in range(3):\n",
    "    iters, times = {algo: {} for algo in algos}, {algo: {} for algo in algos}\n",
    "\n",
    "    for size in sizes:\n",
    "        np.random.seed(_pass)\n",
    "        M, q = src.generate_random_matrix(size)\n",
    "        x_initial = np.ones(size)\n",
    "        lambda_ = 0.4 / np.linalg.norm(M)\n",
    "\n",
    "        _, iters['Корпелевич'][size], times['Корпелевич'][size] = \\\n",
    "            src.korpelevich(x_initial, lambda_, tolerance,\n",
    "                            operator=lambda x: M.dot(x) + q,\n",
    "                            projector=ProjectionOntoProbabilitySymplex)\n",
    "\n",
    "        _, iters['Tseng'][size], times['Tseng'][size] = \\\n",
    "            src.tseng(x_initial, lambda_, tolerance,\n",
    "                      operator=lambda x: M.dot(x) + q,\n",
    "                      projector=ProjectionOntoProbabilitySymplex)\n",
    "\n",
    "        _, iters['Кеш. Tseng'][size], times['Кеш. Tseng'][size] = \\\n",
    "            src.cached_tseng(x_initial, lambda_, tolerance,\n",
    "                             operator=lambda x: M.dot(x) + q,\n",
    "                             projector=ProjectionOntoProbabilitySymplex)\n",
    "\n",
    "        _, iters['Попов'][size], times['Попов'][size] = \\\n",
    "            src.popov(x_initial, x_initial, lambda_, tolerance,\n",
    "                      operator=lambda x: M.dot(x) + q,\n",
    "                      projector=ProjectionOntoProbabilitySymplex)\n",
    "\n",
    "        _, iters['Кеш. Попов'][size], times['Кеш. Попов'][size] = \\\n",
    "            src.cached_popov(x_initial, x_initial, lambda_, tolerance,\n",
    "                             operator=lambda x: M.dot(x) + q,\n",
    "                             projector=ProjectionOntoProbabilitySymplex)\n",
    "\n",
    "        _, iters['Маліцький Tam'][size], times['Маліцький Tam'][size] = \\\n",
    "            src.malitskyi_tam(x_initial, x_initial, lambda_, tolerance,\n",
    "                              operator=lambda x: M.dot(x) + q,\n",
    "                              projector=ProjectionOntoProbabilitySymplex)\n",
    "        \n",
    "        _, iters['Кеш. Маліцький Tam'][size], times['Кеш. Маліцький Tam'][size] = \\\n",
    "            src.cached_malitskyi_tam(x_initial, x_initial, lambda_, tolerance,\n",
    "                                     operator=lambda x: M.dot(x) + q,\n",
    "                                     projector=ProjectionOntoProbabilitySymplex)\n",
    "\n",
    "    for size in sizes:\n",
    "        print(size, end='')\n",
    "        for algo in algos:\n",
    "            print(f' & {times[algo][size]:.2f} & {iters[algo][size]}', end='')\n",
    "        print(' \\\\\\\\ \\\\hline')\n"
   ]
  },
  {
   "cell_type": "markdown",
   "metadata": {},
   "source": [
    "# Друга задача, адаптивні алгоритми"
   ]
  },
  {
   "cell_type": "code",
   "execution_count": 6,
   "metadata": {
    "ExecuteTime": {
     "end_time": "2020-05-14T12:00:13.426128Z",
     "start_time": "2020-05-14T12:00:13.421147Z"
    }
   },
   "outputs": [],
   "source": [
    "tolerance = 1e-3\n",
    "sizes = (100, 200, 500, 1000)\n",
    "algos = ('Адапт. Корпелевич', 'Кеш. адапт. Корпелевич', 'Адапт. Tseng',\n",
    "         'Кеш. адапт. Tseng', 'Адапт. Попов', 'Кеш. адапт. Попов',\n",
    "         'Адапт. Маліцький Tam', 'Кеш. адапт. Маліцький Tam')"
   ]
  },
  {
   "cell_type": "code",
   "execution_count": 7,
   "metadata": {
    "ExecuteTime": {
     "end_time": "2020-05-14T12:00:13.426128Z",
     "start_time": "2020-05-14T12:00:13.421147Z"
    }
   },
   "outputs": [
    {
     "name": "stdout",
     "output_type": "stream",
     "text": [
      "100 & 1.14 & 967 & 0.64 & 967 & 0.99 & 967 & 0.44 & 967 & 0.97 & 967 & 0.51 & 967 & 0.89 & 967 & 0.35 & 967 \\\\ \\hline\n",
      "200 & 2.30 & 1849 & 1.59 & 1849 & 2.01 & 1849 & 1.10 & 1849 & 2.37 & 1849 & 1.56 & 1849 & 2.33 & 1849 & 0.90 & 1849 \\\\ \\hline\n",
      "500 & 5.30 & 2523 & 3.88 & 2523 & 3.85 & 2523 & 2.32 & 2523 & 4.68 & 2523 & 3.25 & 2523 & 3.71 & 2523 & 2.03 & 2523 \\\\ \\hline\n",
      "1000 & 15.93 & 3542 & 10.31 & 3542 & 11.56 & 3542 & 6.54 & 3542 & 14.59 & 3542 & 8.05 & 3542 & 12.11 & 3543 & 5.45 & 3543 \\\\ \\hline\n",
      "100 & 1.16 & 1151 & 0.73 & 1151 & 1.10 & 1151 & 0.52 & 1151 & 1.15 & 1151 & 0.58 & 1151 & 1.09 & 1151 & 0.42 & 1151 \\\\ \\hline\n",
      "200 & 2.06 & 1672 & 1.38 & 1672 & 1.74 & 1672 & 1.01 & 1672 & 2.06 & 1672 & 1.21 & 1672 & 1.88 & 1672 & 0.81 & 1672 \\\\ \\hline\n",
      "500 & 5.08 & 2543 & 4.13 & 2543 & 3.88 & 2543 & 2.50 & 2543 & 5.14 & 2543 & 3.29 & 2543 & 4.16 & 2543 & 2.14 & 2543 \\\\ \\hline\n",
      "1000 & 14.28 & 3570 & 9.68 & 3570 & 11.33 & 3570 & 6.51 & 3570 & 15.09 & 3570 & 7.89 & 3570 & 11.13 & 3570 & 4.89 & 3570 \\\\ \\hline\n",
      "100 & 1.10 & 1086 & 0.69 & 1086 & 1.02 & 1086 & 0.49 & 1086 & 1.08 & 1086 & 0.56 & 1086 & 1.01 & 1086 & 0.41 & 1086 \\\\ \\hline\n",
      "200 & 2.07 & 1715 & 1.46 & 1715 & 1.82 & 1715 & 0.94 & 1715 & 2.05 & 1715 & 1.27 & 1715 & 1.83 & 1715 & 0.86 & 1715 \\\\ \\hline\n",
      "500 & 5.36 & 2725 & 3.99 & 2725 & 3.99 & 2725 & 2.43 & 2725 & 5.26 & 2725 & 3.50 & 2725 & 4.15 & 2725 & 2.33 & 2725 \\\\ \\hline\n",
      "1000 & 14.43 & 3471 & 9.42 & 3471 & 11.47 & 3471 & 6.40 & 3471 & 14.79 & 3471 & 8.50 & 3471 & 11.99 & 3471 & 5.37 & 3471 \\\\ \\hline\n"
     ]
    }
   ],
   "source": [
    "for _pass in range(3):\n",
    "    iters, times = {algo: {} for algo in algos}, {algo: {} for algo in algos}\n",
    "\n",
    "    for size in sizes:\n",
    "        np.random.seed(_pass)\n",
    "        M, q = src.generate_random_matrix(size)\n",
    "        x_initial = np.ones(size)\n",
    "        lambda_initial = 0.4 / np.linalg.norm(M)\n",
    "        tau = 0.4\n",
    "\n",
    "        _, iters['Адапт. Корпелевич'][size], times['Адапт. Корпелевич'][size] = \\\n",
    "            src.adaptive_korpelevich(x_initial, tau, lambda_initial, tolerance,\n",
    "                                     operator=lambda x: M.dot(x) + q,\n",
    "                                     projector=ProjectionOntoProbabilitySymplex)\n",
    "\n",
    "        _, iters['Кеш. адапт. Корпелевич'][size], times['Кеш. адапт. Корпелевич'][size] = \\\n",
    "            src.cached_adaptive_korpelevich(x_initial, tau, lambda_initial, tolerance,\n",
    "                                            operator=lambda x: M.dot(x) + q,\n",
    "                                            projector=ProjectionOntoProbabilitySymplex)\n",
    "\n",
    "        _, iters['Адапт. Tseng'][size], times['Адапт. Tseng'][size] = \\\n",
    "            src.adaptive_tseng(x_initial, tau, lambda_initial, tolerance,\n",
    "                               operator=lambda x: M.dot(x) + q,\n",
    "                               projector=ProjectionOntoProbabilitySymplex)\n",
    "\n",
    "        _, iters['Кеш. адапт. Tseng'][size], times['Кеш. адапт. Tseng'][size] = \\\n",
    "            src.cached_adaptive_tseng(x_initial, tau, lambda_initial, tolerance,\n",
    "                                      operator=lambda x: M.dot(x) + q,\n",
    "                                      projector=ProjectionOntoProbabilitySymplex)\n",
    "\n",
    "        _, iters['Адапт. Попов'][size], times['Адапт. Попов'][size] = \\\n",
    "            src.adaptive_popov(x_initial, x_initial, tau, lambda_initial, tolerance,\n",
    "                               operator=lambda x: M.dot(x) + q,\n",
    "                               projector=ProjectionOntoProbabilitySymplex)\n",
    "\n",
    "        _, iters['Кеш. адапт. Попов'][size], times['Кеш. адапт. Попов'][size] = \\\n",
    "            src.cached_adaptive_popov(x_initial, x_initial, tau, lambda_initial, tolerance,\n",
    "                                      operator=lambda x: M.dot(x) + q,\n",
    "                                      projector=ProjectionOntoProbabilitySymplex)\n",
    "\n",
    "        _, iters['Адапт. Маліцький Tam'][size], times['Адапт. Маліцький Tam'][size] = \\\n",
    "            src.adaptive_malitskyi_tam(x_initial, x_initial, tau,\n",
    "                                       lambda_initial, lambda_initial, tolerance,\n",
    "                                       operator=lambda x: M.dot(x) + q,\n",
    "                                       projector=ProjectionOntoProbabilitySymplex)\n",
    "        \n",
    "        _, iters['Кеш. адапт. Маліцький Tam'][size], times['Кеш. адапт. Маліцький Tam'][size] = \\\n",
    "            src.cached_adaptive_malitskyi_tam(x_initial, x_initial, tau,\n",
    "                                              lambda_initial, lambda_initial, tolerance,\n",
    "                                              operator=lambda x: M.dot(x) + q,\n",
    "                                              projector=ProjectionOntoProbabilitySymplex)\n",
    "\n",
    "    for size in sizes:\n",
    "        print(size, end='')\n",
    "        for algo in algos:\n",
    "            print(f' & {times[algo][size]:.2f} & {iters[algo][size]}', end='')\n",
    "        print(' \\\\\\\\ \\\\hline')\n"
   ]
  },
  {
   "cell_type": "code",
   "execution_count": null,
   "metadata": {},
   "outputs": [],
   "source": []
  }
 ],
 "metadata": {
  "kernelspec": {
   "display_name": "Python 3",
   "language": "python",
   "name": "python3"
  },
  "language_info": {
   "codemirror_mode": {
    "name": "ipython",
    "version": 3
   },
   "file_extension": ".py",
   "mimetype": "text/x-python",
   "name": "python",
   "nbconvert_exporter": "python",
   "pygments_lexer": "ipython3",
   "version": "3.6.5"
  }
 },
 "nbformat": 4,
 "nbformat_minor": 2
}
