{
 "cells": [
  {
   "cell_type": "code",
   "execution_count": 1,
   "metadata": {
    "ExecuteTime": {
     "end_time": "2020-05-14T11:42:22.037205Z",
     "start_time": "2020-05-14T11:42:20.741113Z"
    }
   },
   "outputs": [],
   "source": [
    "import numpy as np\n",
    "import src"
   ]
  },
  {
   "cell_type": "code",
   "execution_count": 2,
   "metadata": {
    "ExecuteTime": {
     "end_time": "2020-05-14T11:42:22.037205Z",
     "start_time": "2020-05-14T11:42:20.741113Z"
    }
   },
   "outputs": [],
   "source": [
    "# from jupyterthemes import jtplot\n",
    "# jtplot.style(theme='onedork', context='notebook')"
   ]
  },
  {
   "cell_type": "markdown",
   "metadata": {},
   "source": [
    "# Четверта задача, адаптивні алгоритми"
   ]
  },
  {
   "cell_type": "code",
   "execution_count": 3,
   "metadata": {
    "ExecuteTime": {
     "end_time": "2020-05-14T12:02:13.523632Z",
     "start_time": "2020-05-14T12:02:13.516614Z"
    }
   },
   "outputs": [],
   "source": [
    "tau = .4\n",
    "lambda_initial = 1\n",
    "tolerances = (1e-3, 1e-6)\n",
    "sizes = (500, 1_000, 2_000, 5_000)\n",
    "algos = ('Адапт. Корпелевич', 'Кеш. адапт. Корпелевич', 'Адапт. Tseng',\n",
    "         'Кеш. адапт. Tseng', 'Адапт. Попов', 'Кеш. адапт. Попов',\n",
    "         'Адапт. Маліцький Tam', 'Кеш. адапт. Маліцький Tam')"
   ]
  },
  {
   "cell_type": "code",
   "execution_count": 4,
   "metadata": {
    "ExecuteTime": {
     "end_time": "2020-05-14T12:02:13.534662Z",
     "start_time": "2020-05-14T12:02:13.527644Z"
    }
   },
   "outputs": [],
   "source": [
    "def f(x: np.array) -> np.array:\n",
    "    \"\"\" function for fourth problem \"\"\"\n",
    "    y = np.hstack([[0], x, [0]])\n",
    "    f1 = y[1:-1]**2 + y[:-2]**2 + y[1:-1] * y[:-2] + y[1:-1] * y[2:]\n",
    "    return f1 + d.dot(x) + c"
   ]
  },
  {
   "cell_type": "code",
   "execution_count": 5,
   "metadata": {
    "ExecuteTime": {
     "end_time": "2020-05-14T12:05:06.049430Z",
     "start_time": "2020-05-14T12:02:13.538673Z"
    }
   },
   "outputs": [
    {
     "name": "stdout",
     "output_type": "stream",
     "text": [
      "500 & 0.001 & 0.05 & 35 & 0.02 & 35 & 0.25 & 175 & 0.09 & 175 & 0.04 & 34 & 0.01 & 34 & 0.04 & 31 & 0.01 & 31 \\\\ \\hline\n",
      "1000 & 0.001 & 0.09 & 37 & 0.03 & 37 & 0.53 & 183 & 0.17 & 183 & 0.07 & 35 & 0.01 & 35 & 0.07 & 32 & 0.01 & 32 \\\\ \\hline\n",
      "2000 & 0.001 & 0.48 & 38 & 0.20 & 38 & 3.29 & 192 & 0.82 & 192 & 0.46 & 37 & 0.11 & 37 & 0.56 & 34 & 0.08 & 34 \\\\ \\hline\n",
      "5000 & 0.001 & 4.10 & 40 & 1.20 & 40 & 21.45 & 203 & 6.37 & 203 & 3.36 & 39 & 0.69 & 39 & 3.89 & 36 & 0.53 & 36 \\\\ \\hline\n",
      "500 & 1e-06 & 0.09 & 65 & 0.03 & 65 & 0.52 & 343 & 0.17 & 343 & 0.08 & 63 & 0.02 & 63 & 0.13 & 60 & 0.03 & 60 \\\\ \\hline\n",
      "1000 & 1e-06 & 0.23 & 67 & 0.06 & 67 & 1.16 & 352 & 0.43 & 352 & 0.13 & 65 & 0.03 & 65 & 0.15 & 62 & 0.03 & 62 \\\\ \\hline\n",
      "2000 & 1e-06 & 0.85 & 69 & 0.36 & 69 & 5.23 & 360 & 1.49 & 360 & 0.80 & 66 & 0.14 & 66 & 0.89 & 63 & 0.13 & 63 \\\\ \\hline\n",
      "5000 & 1e-06 & 5.95 & 71 & 1.98 & 71 & 36.11 & 371 & 10.37 & 371 & 5.64 & 68 & 1.00 & 68 & 6.34 & 65 & 0.93 & 65 \\\\ \\hline\n"
     ]
    }
   ],
   "source": [
    "for i, tolerance in enumerate(tolerances):\n",
    "    iters, times = {algo: {} for algo in algos}, {algo: {} for algo in algos}\n",
    "    \n",
    "    for size in sizes:\n",
    "        d, c = src.generate_tridiagonal_matrix(size)\n",
    "        x_initial = np.zeros(size)\n",
    "\n",
    "        _, iters['Адапт. Корпелевич'][size], times['Адапт. Корпелевич'][size] = \\\n",
    "            src.adaptive_korpelevich(x_initial, tau, lambda_initial, tolerance,\n",
    "                                     operator=f,\n",
    "                                     projector=lambda x: np.maximum(x, np.zeros(x.shape[0])))\n",
    "\n",
    "        _, iters['Кеш. адапт. Корпелевич'][size], times['Кеш. адапт. Корпелевич'][size] = \\\n",
    "            src.cached_adaptive_korpelevich(x_initial, tau, lambda_initial, tolerance,\n",
    "                                            operator=f,\n",
    "                                            projector=lambda x: np.maximum(x, np.zeros(x.shape[0])))\n",
    "\n",
    "        _, iters['Адапт. Tseng'][size], times['Адапт. Tseng'][size] = \\\n",
    "            src.adaptive_tseng(x_initial, tau, lambda_initial, tolerance,\n",
    "                               operator=f,\n",
    "                               projector=lambda x: np.maximum(x, np.zeros(x.shape[0])))\n",
    "\n",
    "        _, iters['Кеш. адапт. Tseng'][size], times['Кеш. адапт. Tseng'][size] = \\\n",
    "            src.cached_adaptive_tseng(x_initial, tau, lambda_initial, tolerance,\n",
    "                                      operator=f,\n",
    "                                      projector=lambda x: np.maximum(x, np.zeros(x.shape[0])))\n",
    "\n",
    "        _, iters['Адапт. Попов'][size], times['Адапт. Попов'][size] = \\\n",
    "            src.adaptive_popov(x_initial, x_initial, tau, lambda_initial, tolerance,\n",
    "                               operator=f,\n",
    "                               projector=lambda x: np.maximum(x, np.zeros(x.shape[0])))\n",
    "\n",
    "        _, iters['Кеш. адапт. Попов'][size], times['Кеш. адапт. Попов'][size] = \\\n",
    "            src.cached_adaptive_popov(x_initial, x_initial, tau, lambda_initial, tolerance,\n",
    "                                      operator=f,\n",
    "                                      projector=lambda x: np.maximum(x, np.zeros(x.shape[0])))\n",
    "\n",
    "        _, iters['Адапт. Маліцький Tam'][size], times['Адапт. Маліцький Tam'][size] = \\\n",
    "            src.adaptive_malitskyi_tam(x_initial, x_initial, tau,\n",
    "                                       lambda_initial, lambda_initial, tolerance,\n",
    "                                       operator=f,\n",
    "                                       projector=lambda x: np.maximum(x, np.zeros(x.shape[0])))\n",
    "\n",
    "        _, iters['Кеш. адапт. Маліцький Tam'][size], times['Кеш. адапт. Маліцький Tam'][size] = \\\n",
    "            src.cached_adaptive_malitskyi_tam(x_initial, x_initial, tau,\n",
    "                                              lambda_initial, lambda_initial, tolerance,\n",
    "                                              operator=f,\n",
    "                                              projector=lambda x: np.maximum(x, np.zeros(x.shape[0])))\n",
    "\n",
    "    for size in sizes:\n",
    "        print(f'{size} & {tolerance}', end='')\n",
    "        for algo in algos:\n",
    "            print(f' & {times[algo][size]:.2f} & {iters[algo][size]}', end='')\n",
    "        print(' \\\\\\\\ \\\\hline')\n"
   ]
  },
  {
   "cell_type": "markdown",
   "metadata": {},
   "source": [
    "# Четверта задача із розрідженими матрицями, адаптивні алгоритми"
   ]
  },
  {
   "cell_type": "code",
   "execution_count": 6,
   "metadata": {
    "ExecuteTime": {
     "end_time": "2020-05-14T12:05:06.741329Z",
     "start_time": "2020-05-14T12:05:06.738314Z"
    }
   },
   "outputs": [],
   "source": [
    "tau = .4\n",
    "lambda_initial = 1\n",
    "tolerances = (1e-3, 1e-6)\n",
    "sizes = (20_000, 50_000, 100_000, 200_000)\n",
    "algos = ('Адапт. Корпелевич', 'Кеш. адапт. Корпелевич', 'Адапт. Tseng',\n",
    "         'Кеш. адапт. Tseng', 'Адапт. Попов', 'Кеш. адапт. Попов',\n",
    "         'Адапт. Маліцький Tam', 'Кеш. адапт. Маліцький Tam')"
   ]
  },
  {
   "cell_type": "code",
   "execution_count": 7,
   "metadata": {
    "ExecuteTime": {
     "end_time": "2020-05-14T12:08:49.832755Z",
     "start_time": "2020-05-14T12:05:06.742326Z"
    }
   },
   "outputs": [
    {
     "name": "stdout",
     "output_type": "stream",
     "text": [
      "20000 & 0.001 & 0.20 & 43 & 0.09 & 43 & 1.12 & 220 & 0.44 & 220 & 0.20 & 42 & 0.06 & 42 & 0.20 & 39 & 0.05 & 39 \\\\ \\hline\n",
      "50000 & 0.001 & 0.83 & 45 & 0.39 & 45 & 4.14 & 231 & 1.68 & 231 & 0.79 & 44 & 0.21 & 44 & 0.80 & 41 & 0.20 & 41 \\\\ \\hline\n",
      "100000 & 0.001 & 2.00 & 47 & 0.68 & 47 & 11.05 & 240 & 3.52 & 240 & 1.80 & 45 & 0.44 & 45 & 2.05 & 42 & 0.37 & 42 \\\\ \\hline\n",
      "200000 & 0.001 & 7.36 & 48 & 3.00 & 48 & 42.02 & 248 & 15.85 & 248 & 7.15 & 47 & 1.99 & 47 & 7.39 & 44 & 1.76 & 44 \\\\ \\hline\n",
      "20000 & 1e-06 & 0.35 & 74 & 0.15 & 74 & 1.92 & 388 & 0.76 & 388 & 0.34 & 71 & 0.11 & 71 & 0.41 & 68 & 0.12 & 68 \\\\ \\hline\n",
      "50000 & 1e-06 & 1.21 & 76 & 0.54 & 76 & 7.87 & 399 & 2.49 & 399 & 1.18 & 73 & 0.28 & 73 & 1.31 & 70 & 0.29 & 70 \\\\ \\hline\n",
      "100000 & 1e-06 & 2.70 & 77 & 1.16 & 77 & 18.07 & 408 & 6.91 & 408 & 2.86 & 74 & 0.71 & 74 & 3.38 & 71 & 0.55 & 71 \\\\ \\hline\n",
      "200000 & 1e-06 & 12.98 & 79 & 4.94 & 79 & 72.83 & 416 & 25.79 & 416 & 11.79 & 76 & 3.24 & 76 & 12.50 & 73 & 2.92 & 73 \\\\ \\hline\n"
     ]
    }
   ],
   "source": [
    "for i, tolerance in enumerate(tolerances):\n",
    "    iters, times = {algo: {} for algo in algos}, {algo: {} for algo in algos}\n",
    "    \n",
    "    for size in sizes:\n",
    "        d, c = src.generate_sparse_tridiagonal_matrix(size)\n",
    "        x_initial = np.zeros(size)\n",
    "\n",
    "        _, iters['Адапт. Корпелевич'][size], times['Адапт. Корпелевич'][size] = \\\n",
    "            src.adaptive_korpelevich(x_initial, tau, lambda_initial, tolerance,\n",
    "                                     operator=f,\n",
    "                                     projector=lambda x: np.maximum(x, np.zeros(x.shape[0])))\n",
    "\n",
    "        _, iters['Кеш. адапт. Корпелевич'][size], times['Кеш. адапт. Корпелевич'][size] = \\\n",
    "            src.cached_adaptive_korpelevich(x_initial, tau, lambda_initial, tolerance,\n",
    "                                            operator=f,\n",
    "                                            projector=lambda x: np.maximum(x, np.zeros(x.shape[0])))\n",
    "\n",
    "        _, iters['Адапт. Tseng'][size], times['Адапт. Tseng'][size] = \\\n",
    "            src.adaptive_tseng(x_initial, tau, lambda_initial, tolerance,\n",
    "                               operator=f,\n",
    "                               projector=lambda x: np.maximum(x, np.zeros(x.shape[0])))\n",
    "\n",
    "        _, iters['Кеш. адапт. Tseng'][size], times['Кеш. адапт. Tseng'][size] = \\\n",
    "            src.cached_adaptive_tseng(x_initial, tau, lambda_initial, tolerance,\n",
    "                                      operator=f,\n",
    "                                      projector=lambda x: np.maximum(x, np.zeros(x.shape[0])))\n",
    "\n",
    "        _, iters['Адапт. Попов'][size], times['Адапт. Попов'][size] = \\\n",
    "            src.adaptive_popov(x_initial, x_initial, tau, lambda_initial, tolerance,\n",
    "                               operator=f,\n",
    "                               projector=lambda x: np.maximum(x, np.zeros(x.shape[0])))\n",
    "\n",
    "        _, iters['Кеш. адапт. Попов'][size], times['Кеш. адапт. Попов'][size] = \\\n",
    "            src.cached_adaptive_popov(x_initial, x_initial, tau, lambda_initial, tolerance,\n",
    "                                      operator=f,\n",
    "                                      projector=lambda x: np.maximum(x, np.zeros(x.shape[0])))\n",
    "\n",
    "        _, iters['Адапт. Маліцький Tam'][size], times['Адапт. Маліцький Tam'][size] = \\\n",
    "            src.adaptive_malitskyi_tam(x_initial, x_initial, tau,\n",
    "                                       lambda_initial, lambda_initial, tolerance,\n",
    "                                       operator=f,\n",
    "                                       projector=lambda x: np.maximum(x, np.zeros(x.shape[0])))\n",
    "\n",
    "        _, iters['Кеш. адапт. Маліцький Tam'][size], times['Кеш. адапт. Маліцький Tam'][size] = \\\n",
    "            src.cached_adaptive_malitskyi_tam(x_initial, x_initial, tau,\n",
    "                                              lambda_initial, lambda_initial, tolerance,\n",
    "                                              operator=f,\n",
    "                                              projector=lambda x: np.maximum(x, np.zeros(x.shape[0])))\n",
    "\n",
    "    for size in sizes:\n",
    "        print(f'{size} & {tolerance}', end='')\n",
    "        for algo in algos:\n",
    "            print(f' & {times[algo][size]:.2f} & {iters[algo][size]}', end='')\n",
    "        print(' \\\\\\\\ \\\\hline')\n"
   ]
  },
  {
   "cell_type": "code",
   "execution_count": null,
   "metadata": {},
   "outputs": [],
   "source": []
  }
 ],
 "metadata": {
  "kernelspec": {
   "display_name": "Python 3",
   "language": "python",
   "name": "python3"
  },
  "language_info": {
   "codemirror_mode": {
    "name": "ipython",
    "version": 3
   },
   "file_extension": ".py",
   "mimetype": "text/x-python",
   "name": "python",
   "nbconvert_exporter": "python",
   "pygments_lexer": "ipython3",
   "version": "3.6.5"
  },
  "notify_time": "30"
 },
 "nbformat": 4,
 "nbformat_minor": 2
}
