{
 "cells": [
  {
   "cell_type": "code",
   "execution_count": 1,
   "metadata": {
    "ExecuteTime": {
     "end_time": "2020-05-14T11:42:22.037205Z",
     "start_time": "2020-05-14T11:42:20.741113Z"
    }
   },
   "outputs": [],
   "source": [
    "import numpy as np\n",
    "import src"
   ]
  },
  {
   "cell_type": "code",
   "execution_count": 2,
   "metadata": {
    "ExecuteTime": {
     "end_time": "2020-05-14T11:42:22.037205Z",
     "start_time": "2020-05-14T11:42:20.741113Z"
    }
   },
   "outputs": [],
   "source": [
    "# from jupyterthemes import jtplot\n",
    "# jtplot.style(theme='onedork', context='notebook')"
   ]
  },
  {
   "cell_type": "markdown",
   "metadata": {},
   "source": [
    "# Третя задача"
   ]
  },
  {
   "cell_type": "code",
   "execution_count": 3,
   "metadata": {
    "ExecuteTime": {
     "end_time": "2020-05-14T12:02:13.512609Z",
     "start_time": "2020-05-14T12:02:13.503581Z"
    }
   },
   "outputs": [],
   "source": [
    "def f(x: np.array) -> np.array:\n",
    "    \"\"\" function for third problem \"\"\"\n",
    "    return np.array([\n",
    "        3 * x[0]**2 + 2 * x[0] * x[1] + 2 * x[1]**2 + x[2] + 3 * x[3] - 6,\n",
    "        2 * x[0]**2 + x[0] + x[1]**2 + 10 * x[2] + 2 * x[3] - 2,\n",
    "        3 * x[0]**2 + x[0] * x[1] + 2 * x[1]**2 + 2 * x[2] + 9 * x[3] - 9,\n",
    "        x[0]**2 + 3 * x[2]**2 + 2 * x[2] + 3 * x[3] - 3\n",
    "    ])"
   ]
  },
  {
   "cell_type": "code",
   "execution_count": 4,
   "metadata": {},
   "outputs": [],
   "source": [
    "def ProjectionOntoProbabilitySymplex(x: np.array) -> np.array:\n",
    "    \"\"\" computes projection onto (scaled) a probability symplex \"\"\"\n",
    "    dimensionality = x.shape[0]\n",
    "    x /= dimensionality\n",
    "    sorted_x = np.flip(np.sort(x))\n",
    "    prefix_sum = np.cumsum(sorted_x)\n",
    "    to_compare = sorted_x + (1 - prefix_sum) / np.arange(1, dimensionality + 1)\n",
    "    k = 0\n",
    "    for j in range(1, dimensionality):\n",
    "        if to_compare[j] > 0:\n",
    "            k = j\n",
    "    return dimensionality * np.maximum(np.zeros(dimensionality), x +\n",
    "                                       (to_compare[k] - sorted_x[k]))"
   ]
  },
  {
   "cell_type": "code",
   "execution_count": 5,
   "metadata": {
    "ExecuteTime": {
     "end_time": "2020-05-14T12:00:13.426128Z",
     "start_time": "2020-05-14T12:00:13.421147Z"
    }
   },
   "outputs": [],
   "source": [
    "lambda_initial = 1\n",
    "tau = 0.4\n",
    "tolerances = (1e-3, 1e-6)\n",
    "rand1 = np.random.uniform(0, 1, size=4)\n",
    "rand2 = np.random.uniform(0, 1, size=4)\n",
    "rand3 = np.random.uniform(0, 1, size=4)\n",
    "x_initials = (np.ones(4), np.array([0.5, 0.5, 2, 1]),\n",
    "              rand1 + (4 - rand1.sum()) / 4,\n",
    "              rand2 + (4 - rand2.sum()) / 4,\n",
    "              rand3 + (4 - rand3.sum()) / 4)\n",
    "algos = ('Адапт. Корпелевич', 'Кеш. адапт. Корпелевич', 'Адапт. Tseng',\n",
    "         'Кеш. адапт. Tseng', 'Адапт. Попов', 'Кеш. адапт. Попов',\n",
    "         'Адапт. Маліцький Tam', 'Кеш. адапт. Маліцький Tam')"
   ]
  },
  {
   "cell_type": "code",
   "execution_count": 6,
   "metadata": {
    "ExecuteTime": {
     "end_time": "2020-05-14T12:00:13.426128Z",
     "start_time": "2020-05-14T12:00:13.421147Z"
    }
   },
   "outputs": [
    {
     "name": "stdout",
     "output_type": "stream",
     "text": [
      "[1. 1. 1. 1.] & 0.001 & 0.02 & 30 & 0.01 & 30 & 0.05 & 156 & 0.03 & 156 & 0.01 & 29 & 0.01 & 29 & 0.02 & 49 & 0.01 & 49 \\\\ \\hline\n",
      "[1. 1. 1. 1.] & 1e-06 & 0.02 & 58 & 0.01 & 58 & 0.15 & 475 & 0.08 & 475 & 0.02 & 56 & 0.01 & 56 & 0.04 & 142 & 0.02 & 142 \\\\ \\hline\n",
      "[0.5 0.5 2.  1. ] & 0.001 & 0.02 & 51 & 0.01 & 51 & 0.33 & 980 & 0.20 & 980 & 0.02 & 51 & 0.01 & 51 & 0.02 & 69 & 0.01 & 69 \\\\ \\hline\n",
      "[0.5 0.5 2.  1. ] & 1e-06 & 0.04 & 104 & 0.03 & 104 & 2.00 & 6503 & 1.13 & 6503 & 0.03 & 104 & 0.02 & 104 & 0.05 & 156 & 0.02 & 156 \\\\ \\hline\n",
      "[0.99439938 0.82990423 1.02224429 1.1534521 ] & 0.001 & 0.01 & 37 & 0.01 & 37 & 0.14 & 444 & 0.09 & 444 & 0.01 & 36 & 0.01 & 36 & 0.02 & 68 & 0.01 & 68 \\\\ \\hline\n",
      "[0.99439938 0.82990423 1.02224429 1.1534521 ] & 1e-06 & 0.03 & 72 & 0.02 & 72 & 0.52 & 1602 & 0.31 & 1602 & 0.03 & 71 & 0.02 & 71 & 0.05 & 154 & 0.03 & 154 \\\\ \\hline\n",
      "[1.00198093 1.11654082 1.2227007  0.65877755] & 0.001 & 0.01 & 39 & 0.01 & 39 & 0.12 & 359 & 0.07 & 359 & 0.02 & 55 & 0.01 & 55 & 0.05 & 148 & 0.02 & 148 \\\\ \\hline\n",
      "[1.00198093 1.11654082 1.2227007  0.65877755] & 1e-06 & 0.04 & 121 & 0.03 & 121 & 0.40 & 1231 & 0.24 & 1231 & 0.05 & 141 & 0.03 & 141 & 0.20 & 632 & 0.10 & 632 \\\\ \\hline\n",
      "[0.47183831 0.7083326  1.42492903 1.39490005] & 0.001 & 0.02 & 46 & 0.01 & 46 & 0.37 & 1160 & 0.23 & 1160 & 0.02 & 46 & 0.01 & 46 & 0.02 & 69 & 0.01 & 69 \\\\ \\hline\n",
      "[0.47183831 0.7083326  1.42492903 1.39490005] & 1e-06 & 0.03 & 94 & 0.02 & 94 & 3.28 & 10000 & 1.82 & 10000 & 0.03 & 94 & 0.02 & 94 & 0.05 & 165 & 0.02 & 165 \\\\ \\hline\n"
     ]
    }
   ],
   "source": [
    "for i, x_initial in enumerate(x_initials):\n",
    "    iters, times = {algo: {} for algo in algos}, {algo: {} for algo in algos}\n",
    "    \n",
    "    for tolerance in tolerances:\n",
    "        _, iters['Адапт. Корпелевич'][tolerance], times['Адапт. Корпелевич'][tolerance] = \\\n",
    "            src.adaptive_korpelevich(x_initial, tau, lambda_initial, tolerance,\n",
    "                                     operator=f,\n",
    "                                     projector=ProjectionOntoProbabilitySymplex)\n",
    "\n",
    "        _, iters['Кеш. адапт. Корпелевич'][tolerance], times['Кеш. адапт. Корпелевич'][tolerance] = \\\n",
    "            src.cached_adaptive_korpelevich(x_initial, tau, lambda_initial, tolerance,\n",
    "                                            operator=f,\n",
    "                                            projector=ProjectionOntoProbabilitySymplex)\n",
    "\n",
    "        _, iters['Адапт. Tseng'][tolerance], times['Адапт. Tseng'][tolerance] = \\\n",
    "            src.adaptive_tseng(x_initial, tau, lambda_initial, tolerance,\n",
    "                               operator=f,\n",
    "                               projector=ProjectionOntoProbabilitySymplex)\n",
    "\n",
    "        _, iters['Кеш. адапт. Tseng'][tolerance], times['Кеш. адапт. Tseng'][tolerance] = \\\n",
    "            src.cached_adaptive_tseng(x_initial, tau, lambda_initial, tolerance,\n",
    "                                      operator=f,\n",
    "                                      projector=ProjectionOntoProbabilitySymplex)\n",
    "\n",
    "        _, iters['Адапт. Попов'][tolerance], times['Адапт. Попов'][tolerance] = \\\n",
    "            src.adaptive_popov(x_initial, x_initial, tau, lambda_initial, tolerance,\n",
    "                               operator=f,\n",
    "                               projector=ProjectionOntoProbabilitySymplex)\n",
    "\n",
    "        _, iters['Кеш. адапт. Попов'][tolerance], times['Кеш. адапт. Попов'][tolerance] = \\\n",
    "            src.cached_adaptive_popov(x_initial, x_initial, tau, lambda_initial, tolerance,\n",
    "                                      operator=f,\n",
    "                                      projector=ProjectionOntoProbabilitySymplex)\n",
    "\n",
    "        _, iters['Адапт. Маліцький Tam'][tolerance], times['Адапт. Маліцький Tam'][tolerance] = \\\n",
    "            src.adaptive_malitskyi_tam(x_initial, x_initial, tau,\n",
    "                                       lambda_initial, lambda_initial, tolerance,\n",
    "                                       operator=f,\n",
    "                                       projector=ProjectionOntoProbabilitySymplex)\n",
    "\n",
    "        _, iters['Кеш. адапт. Маліцький Tam'][tolerance], times['Кеш. адапт. Маліцький Tam'][tolerance] = \\\n",
    "            src.cached_adaptive_malitskyi_tam(x_initial, x_initial, tau,\n",
    "                                              lambda_initial, lambda_initial, tolerance,\n",
    "                                              operator=f,\n",
    "                                              projector=ProjectionOntoProbabilitySymplex)\n",
    "\n",
    "    for tolerance in tolerances:\n",
    "        print(f'{x_initial} & {tolerance}', end='')\n",
    "        for algo in algos:\n",
    "            print(f' & {times[algo][tolerance]:.2f} & {iters[algo][tolerance]}', end='')\n",
    "        print(' \\\\\\\\ \\hline')\n"
   ]
  },
  {
   "cell_type": "code",
   "execution_count": null,
   "metadata": {},
   "outputs": [],
   "source": []
  }
 ],
 "metadata": {
  "kernelspec": {
   "display_name": "Python 3",
   "language": "python",
   "name": "python3"
  },
  "language_info": {
   "codemirror_mode": {
    "name": "ipython",
    "version": 3
   },
   "file_extension": ".py",
   "mimetype": "text/x-python",
   "name": "python",
   "nbconvert_exporter": "python",
   "pygments_lexer": "ipython3",
   "version": "3.6.5"
  }
 },
 "nbformat": 4,
 "nbformat_minor": 2
}
