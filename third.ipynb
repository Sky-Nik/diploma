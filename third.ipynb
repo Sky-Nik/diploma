{
 "cells": [
  {
   "cell_type": "code",
   "execution_count": 1,
   "metadata": {
    "ExecuteTime": {
     "end_time": "2020-05-14T11:42:22.037205Z",
     "start_time": "2020-05-14T11:42:20.741113Z"
    }
   },
   "outputs": [],
   "source": [
    "import numpy as np\n",
    "import src"
   ]
  },
  {
   "cell_type": "code",
   "execution_count": 2,
   "metadata": {
    "ExecuteTime": {
     "end_time": "2020-05-14T11:42:22.037205Z",
     "start_time": "2020-05-14T11:42:20.741113Z"
    }
   },
   "outputs": [],
   "source": [
    "# from jupyterthemes import jtplot\n",
    "# jtplot.style(theme='onedork', context='notebook')"
   ]
  },
  {
   "cell_type": "markdown",
   "metadata": {},
   "source": [
    "# Третя задача"
   ]
  },
  {
   "cell_type": "code",
   "execution_count": 3,
   "metadata": {
    "ExecuteTime": {
     "end_time": "2020-05-14T12:02:13.512609Z",
     "start_time": "2020-05-14T12:02:13.503581Z"
    }
   },
   "outputs": [],
   "source": [
    "def f(x: np.array) -> np.array:\n",
    "    \"\"\" function for third problem \"\"\"\n",
    "    return np.array([\n",
    "        3 * x[0]**2 + 2 * x[0] * x[1] + 2 * x[1]**2 + x[2] + 3 * x[3] - 6,\n",
    "        2 * x[0]**2 + x[0] + x[1]**2 + 10 * x[2] + 2 * x[3] - 2,\n",
    "        3 * x[0]**2 + x[0] * x[1] + 2 * x[1]**2 + 2 * x[2] + 9 * x[3] - 9,\n",
    "        x[0]**2 + 3 * x[2]**2 + 2 * x[2] + 3 * x[3] - 3\n",
    "    ])"
   ]
  },
  {
   "cell_type": "code",
   "execution_count": 4,
   "metadata": {},
   "outputs": [],
   "source": [
    "def ProjectionOntoProbabilitySymplex(x: np.array) -> np.array:\n",
    "    \"\"\" computes projection onto (scaled) a probability symplex \"\"\"\n",
    "    dimensionality = x.shape[0]\n",
    "    x /= dimensionality\n",
    "    sorted_x = np.flip(np.sort(x))\n",
    "    prefix_sum = np.cumsum(sorted_x)\n",
    "    to_compare = sorted_x + (1 - prefix_sum) / np.arange(1, dimensionality + 1)\n",
    "    k = 0\n",
    "    for j in range(1, dimensionality):\n",
    "        if to_compare[j] > 0:\n",
    "            k = j\n",
    "    return dimensionality * np.maximum(np.zeros(dimensionality), x +\n",
    "                                       (to_compare[k] - sorted_x[k]))"
   ]
  },
  {
   "cell_type": "code",
   "execution_count": 5,
   "metadata": {
    "ExecuteTime": {
     "end_time": "2020-05-14T12:00:13.426128Z",
     "start_time": "2020-05-14T12:00:13.421147Z"
    }
   },
   "outputs": [],
   "source": [
    "lambda_initial = 1\n",
    "tau = 0.4\n",
    "tolerances = (1e-3, 1e-6)\n",
    "rand = np.random.uniform(0, 1, size=4)\n",
    "x_initials = (np.ones(4), np.array([0.5, 0.5, 2, 1]), rand + (4 - rand.sum()) / 4)\n",
    "algos = ('Адапт. Корпелевич', 'Кеш. адапт. Корпелевич', 'Адапт. Tseng',\n",
    "         'Кеш. адапт. Tseng', 'Адапт. Попов', 'Кеш. адапт. Попов',\n",
    "         'Адапт. Маліцький Tam', 'Кеш. адапт. Маліцький Tam')"
   ]
  },
  {
   "cell_type": "code",
   "execution_count": 6,
   "metadata": {
    "ExecuteTime": {
     "end_time": "2020-05-14T12:00:13.426128Z",
     "start_time": "2020-05-14T12:00:13.421147Z"
    }
   },
   "outputs": [],
   "source": [
    "for i, x_initial in enumerate(x_initials):\n",
    "    iters, times = {algo: {} for algo in algos}, {algo: {} for algo in algos}\n",
    "    \n",
    "    for tolerance in tolerances:\n",
    "        _, iters['Адапт. Корпелевич'][tolerance], times['Адапт. Корпелевич'][tolerance] = \\\n",
    "            src.adaptive_korpelevich(x_initial, tau, lambda_initial, tolerance,\n",
    "                                     operator=f,\n",
    "                                     projector=ProjectionOntoProbabilitySymplex)\n",
    "\n",
    "        _, iters['Кеш. адапт. Корпелевич'][tolerance], times['Кеш. адапт. Корпелевич'][tolerance] = \\\n",
    "            src.cached_adaptive_korpelevich(x_initial, tau, lambda_initial, tolerance,\n",
    "                                            operator=f,\n",
    "                                            projector=ProjectionOntoProbabilitySymplex)\n",
    "\n",
    "        _, iters['Адапт. Tseng'][tolerance], times['Адапт. Tseng'][tolerance] = \\\n",
    "            src.adaptive_tseng(x_initial, tau, lambda_initial, tolerance,\n",
    "                               operator=f,\n",
    "                               projector=ProjectionOntoProbabilitySymplex)\n",
    "\n",
    "        _, iters['Кеш. адапт. Tseng'][tolerance], times['Кеш. адапт. Tseng'][tolerance] = \\\n",
    "            src.cached_adaptive_tseng(x_initial, tau, lambda_initial, tolerance,\n",
    "                                      operator=f,\n",
    "                                      projector=ProjectionOntoProbabilitySymplex)\n",
    "\n",
    "        _, iters['Адапт. Попов'][tolerance], times['Адапт. Попов'][tolerance] = \\\n",
    "            src.adaptive_popov(x_initial, x_initial, tau, lambda_initial, tolerance,\n",
    "                               operator=f,\n",
    "                               projector=ProjectionOntoProbabilitySymplex)\n",
    "\n",
    "        _, iters['Кеш. адапт. Попов'][tolerance], times['Кеш. адапт. Попов'][tolerance] = \\\n",
    "            src.cached_adaptive_popov(x_initial, x_initial, tau, lambda_initial, tolerance,\n",
    "                                      operator=f,\n",
    "                                      projector=ProjectionOntoProbabilitySymplex)\n",
    "\n",
    "        _, iters['Адапт. Маліцький Tam'][tolerance], times['Адапт. Маліцький Tam'][tolerance] = \\\n",
    "            src.adaptive_malitskyi_tam(x_initial, x_initial, tau,\n",
    "                                       lambda_initial, lambda_initial, tolerance,\n",
    "                                       operator=f,\n",
    "                                       projector=ProjectionOntoProbabilitySymplex)\n",
    "\n",
    "        _, iters['Кеш. адапт. Маліцький Tam'][tolerance], times['Кеш. адапт. Маліцький Tam'][tolerance] = \\\n",
    "            src.cached_adaptive_malitskyi_tam(x_initial, x_initial, tau,\n",
    "                                              lambda_initial, lambda_initial, tolerance,\n",
    "                                              operator=f,\n",
    "                                              projector=ProjectionOntoProbabilitySymplex)\n",
    "\n",
    "    src.save_values_to_table(times, tolerances, fn=f'3/adapt/time-{i}', tp='time')\n",
    "    src.save_values_to_table(iters, tolerances, fn=f'3/adapt/iter-{i}', tp='iter')\n"
   ]
  },
  {
   "cell_type": "code",
   "execution_count": null,
   "metadata": {},
   "outputs": [],
   "source": []
  }
 ],
 "metadata": {
  "kernelspec": {
   "display_name": "Python 3",
   "language": "python",
   "name": "python3"
  },
  "language_info": {
   "codemirror_mode": {
    "name": "ipython",
    "version": 3
   },
   "file_extension": ".py",
   "mimetype": "text/x-python",
   "name": "python",
   "nbconvert_exporter": "python",
   "pygments_lexer": "ipython3",
   "version": "3.6.5"
  }
 },
 "nbformat": 4,
 "nbformat_minor": 2
}
